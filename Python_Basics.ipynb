{
  "nbformat": 4,
  "nbformat_minor": 0,
  "metadata": {
    "colab": {
      "provenance": []
    },
    "kernelspec": {
      "name": "python3",
      "display_name": "Python 3"
    },
    "language_info": {
      "name": "python"
    }
  },
  "cells": [
    {
      "cell_type": "markdown",
      "source": [
        "#Python Basics"
      ],
      "metadata": {
        "id": "aKX94mQl9pWx"
      }
    },
    {
      "cell_type": "markdown",
      "source": [
        "1. What is Python, and why is it popular?\n",
        "-> Python is a high-level, interpreted programming language known for its readability and simplicity. It supports multiple programming paradigms, including procedural, object-oriented, and functional programming. Python is popular due to its:\n",
        "* Ease of Learning: Its syntax is clear and intuitive, making it accessible for beginners.\n",
        "* Versatility: It can be used for web development, data analysis, artificial intelligence, scientific computing, automation, and more.\n",
        "* Cross-Platform Compatibility: Python runs on various operating systems,including Windows, macOS, and Linux.\n",
        "* Large Community and Libraries: Python has a vast ecosystem of libraries and frameworks (like NumPy, Pandas, Django, Flask) that facilitate various tasks and projects.\n",
        "\n",
        "2. What is an interpreter in Python?\n",
        "-> An interpreter in Python is a program that executes Python code line by line. It translates the high-level Python code into machine code that the computer can understand. This allows for immediate execution of code, making it easier to test and debug. Python's interpreter also provides an interactive mode, allowing users to execute commands and see results in real-time.\n",
        "\n",
        "3. What are pre-defined keywords in Python?\n",
        "-> Pre-defined keywords in Python are reserved words that have special meanings and cannot be used as identifiers (like variable names). These keywords define the syntax and structure of the Python language. Examples include if, else, for, while, def, class, import, and return.\n",
        "\n",
        "4. Can keywords be used as variable names?\n",
        "-> No, keywords cannot be used as variable names in Python. Since they have predefined meanings in the language, using them as identifiers would lead to syntax errors.\n",
        "\n",
        "5. What is mutability in Python?\n",
        "-> Mutability refers to the ability of an object to be changed after it has been created. In Python, mutable objects can be modified in place, while immutable objects cannot be changed once they are created. For example, lists are mutable (you can change their contents), while tuples are immutable (you cannot change their contents).\n",
        "\n",
        "6. Why are lists mutable, but tuples are immutable?\n",
        "-> Lists are mutable because they are designed to allow dynamic changes, such as adding, removing, or modifying elements. This flexibility is useful for many applications. Tuples, on the other hand, are immutable to provide a fixed structure that can be used as keys in dictionaries or to ensure that the data remains constant throughout the program. This immutability can also lead to performance optimizations.\n",
        "\n",
        "7. What is the difference between “==” and “is” operators in Python?\n",
        "-> The == operator checks for value equality, meaning it evaluates whether the values of two objects are the same while the is operator checks for identity equality, meaning it evaluates whether two references point to the same object in memory.\n",
        "\n",
        "8. What are logical operators in Python?\n",
        "-> Logical operators in Python are used to combine conditional statements. The main logical operators are:\n",
        "*   and: Returns True if both operands are true.\n",
        "*   or: Returns True if at least one of the operands is true.\n",
        "*   not: Returns True if the operand is false (negates the boolean value).\n",
        "\n",
        "9. What is type casting in Python?\n",
        "-> Type casting in Python is the process of converting one data type into another. This can be done explicitly (using functions like int(), float(), str(), etc.) or implicitly (where Python automatically converts types during operations).\n",
        "\n",
        "10. What is the difference between implicit and explicit type casting?\n",
        "*   Implicit Type Casting: This occurs automatically when Python converts one data type to another without explicit instructions from the programmer. For example, adding an integer to a float results in a float.\n",
        "*   Explicit Type Casting: This requires the programmer to specify the conversion using type casting functions. For example, converting a float to an integer using int().\n",
        "\n",
        "11. What is the purpose of conditional statements in Python?\n",
        "-> Conditional statements in Python allow the program to execute certain blocks of code based on specific conditions. They enable decision-making in the code, allowing different actions to be taken depending on whether conditions evaluate to true or false. The primary conditional statements are if, elif, and else.\n",
        "\n",
        "12. How does the elif statement work?\n",
        "-> The elif statement (short for \"else if\") allows you to check multiple expressions for truth and execute a block of code as soon as one of the conditions is true. It follows an if statement and can be followed by additional elif statements or an else statement. This structure allows for more complex decision-making.\n",
        "\n",
        "13. What is the difference between for and while loops?\n",
        "-> A for loop iterates over a sequence (like a list, tuple, or string) or a range of numbers. It is typically used when the number of iterations is known beforehand whereas on the other hand a while loop continues to execute as long as a specified condition is true. It is used when the number of iterations is not known in advance and depends on a condition being met.\n",
        "\n",
        "14. Describe a scenario where a while loop is more suitable than a for loop.\n",
        "-> A while loop is more suitable in scenarios where the number of iterations is not predetermined. For example, if you want to keep prompting a user for input until they provide a valid response, a while loop would be ideal:\n",
        "\n",
        "  user_input = \"\"\n",
        "  while user_input != \"exit\":\n",
        "    user_input = input(\"Enter a command (type 'exit' to quit): \")\n",
        ">> In this case, the loop continues until the user types \"exit,\" which is not known beforehand.\n"
      ],
      "metadata": {
        "id": "NfPjX67N-FVj"
      }
    },
    {
      "cell_type": "code",
      "source": [
        "# 1.Write a Python program to print \"Hello, World!\"\n",
        "print(\"Hello, World!\")\n"
      ],
      "metadata": {
        "colab": {
          "base_uri": "https://localhost:8080/"
        },
        "id": "A7v9ec_9EcuJ",
        "outputId": "bd574c64-e327-4a29-dea9-eef69ebc9d38"
      },
      "execution_count": 1,
      "outputs": [
        {
          "output_type": "stream",
          "name": "stdout",
          "text": [
            "Hello, World!\n"
          ]
        }
      ]
    },
    {
      "cell_type": "code",
      "source": [
        "# 2. Write a Python program that displays your name and age\n",
        "\n",
        "name = \"Vaibhav Sharma\"\n",
        "age =  23\n",
        "print(f\"My name is {name} and I am {age} years old.\")\n"
      ],
      "metadata": {
        "colab": {
          "base_uri": "https://localhost:8080/"
        },
        "id": "VGih7xE8FSto",
        "outputId": "2746d1b3-bb9f-4ca7-abea-e6d2e354d6a9"
      },
      "execution_count": 2,
      "outputs": [
        {
          "output_type": "stream",
          "name": "stdout",
          "text": [
            "My name is Vaibhav Sharma and I am 23 years old.\n"
          ]
        }
      ]
    },
    {
      "cell_type": "code",
      "source": [
        "# 3. Write code to print all the pre-defined keywords in Python using the keyword library\n",
        "\n",
        "import keyword\n",
        "\n",
        "# Print all Python keywords\n",
        "print(keyword.kwlist)\n",
        "\n"
      ],
      "metadata": {
        "colab": {
          "base_uri": "https://localhost:8080/"
        },
        "id": "Vv8_eiG9FpZK",
        "outputId": "5446e33e-cc1d-49fa-f949-2d16984bf3b7"
      },
      "execution_count": 4,
      "outputs": [
        {
          "output_type": "stream",
          "name": "stdout",
          "text": [
            "['False', 'None', 'True', 'and', 'as', 'assert', 'async', 'await', 'break', 'class', 'continue', 'def', 'del', 'elif', 'else', 'except', 'finally', 'for', 'from', 'global', 'if', 'import', 'in', 'is', 'lambda', 'nonlocal', 'not', 'or', 'pass', 'raise', 'return', 'try', 'while', 'with', 'yield']\n"
          ]
        }
      ]
    },
    {
      "cell_type": "code",
      "source": [
        "# 4. Write a program that checks if a given word is a Python keyword\n",
        "\n",
        "import keyword\n",
        "word = input(\"Enter a word: \")\n",
        "if keyword.iskeyword(word):\n",
        "    print(f\"{word} is a Python keyword.\")\n",
        "else:\n",
        "    print(f\"{word} is not a Python keyword.\")\n"
      ],
      "metadata": {
        "colab": {
          "base_uri": "https://localhost:8080/"
        },
        "id": "QWo_3UNbGEIR",
        "outputId": "8d1dbc3e-d28f-4075-ae63-008378ef7c02"
      },
      "execution_count": 6,
      "outputs": [
        {
          "output_type": "stream",
          "name": "stdout",
          "text": [
            "Enter a word: fhdeb\n",
            "fhdeb is not a Python keyword.\n"
          ]
        }
      ]
    },
    {
      "cell_type": "code",
      "source": [
        "#5. Create a list and tuple in Python, and demonstrate how attempting to change an element works differently for each\n",
        "# List (mutable)\n",
        "my_list = [1, 2, 3]\n",
        "print(\"Original list:\", my_list)\n",
        "my_list[0] = 10\n",
        "print(\"Modified list:\", my_list)\n",
        "\n",
        "# Tuple (immutable)\n",
        "my_tuple = (1, 2, 3)\n",
        "print(\"Original tuple:\", my_tuple)\n",
        "try:\n",
        "    my_tuple[0] = 10\n",
        "except TypeError as e:\n",
        "    print(\"Error:\", e)\n"
      ],
      "metadata": {
        "colab": {
          "base_uri": "https://localhost:8080/"
        },
        "id": "X5clr6RCGcql",
        "outputId": "c84cca2f-4d96-4444-9ecd-d1580efa0959"
      },
      "execution_count": 7,
      "outputs": [
        {
          "output_type": "stream",
          "name": "stdout",
          "text": [
            "Original list: [1, 2, 3]\n",
            "Modified list: [10, 2, 3]\n",
            "Original tuple: (1, 2, 3)\n",
            "Error: 'tuple' object does not support item assignment\n"
          ]
        }
      ]
    },
    {
      "cell_type": "code",
      "source": [
        "# 6. Write a function to demonstrate the behavior of mutable and immutable arguments\n",
        "\n",
        "  # Modifying the mutable argument (a list)\n",
        "def modify_list(lst):\n",
        "    lst.append(4)\n",
        "    print(\"Inside function (list):\", lst)\n",
        "\n",
        "  # modifying the immutable argument (a string)\n",
        "def modify_string(s):\n",
        "    s += \" world\"\n",
        "    print(\"Inside function (string):\", s)\n",
        "\n",
        "my_list = [1, 2, 3]\n",
        "my_string = \"Hello\"\n",
        "\n",
        "print(\"Before function call (list):\", my_list)\n",
        "modify_list(my_list)\n",
        "print(\"After function call (list):\", my_list)\n",
        "\n",
        "print(\"Before function call (string):\", my_string)\n",
        "modify_string(my_string)\n",
        "print(\"After function call (string):\", my_string)\n"
      ],
      "metadata": {
        "colab": {
          "base_uri": "https://localhost:8080/"
        },
        "id": "5_migoZGHTDy",
        "outputId": "c65bcc77-84ae-4e1a-c7af-67b9af7b8a20"
      },
      "execution_count": 10,
      "outputs": [
        {
          "output_type": "stream",
          "name": "stdout",
          "text": [
            "Before function call (list): [1, 2, 3]\n",
            "Inside function (list): [1, 2, 3, 4]\n",
            "After function call (list): [1, 2, 3, 4]\n",
            "Before function call (string): Hello\n",
            "Inside function (string): Hello world\n",
            "After function call (string): Hello\n"
          ]
        }
      ]
    },
    {
      "cell_type": "code",
      "source": [
        "# 7. Write a function to demonstrate the behavior of mutable and immutable arguments\n",
        "\n",
        "  # Modifying the mutable argument (a list)\n",
        "def modify_list(lst):\n",
        "    lst.append(4)\n",
        "    print(\"Inside function (list):\", lst)\n",
        "\n",
        "  # modifying the immutable argument (a string)\n",
        "def modify_string(s):\n",
        "    s += \" world\"\n",
        "    print(\"Inside function (string):\", s)\n",
        "\n",
        "my_list = [1, 2, 3]\n",
        "my_string = \"Hello\"\n",
        "\n",
        "print(\"Before function call (list):\", my_list)\n",
        "modify_list(my_list)\n",
        "print(\"After function call (list):\", my_list)\n",
        "\n",
        "print(\"Before function call (string):\", my_string)\n",
        "modify_string(my_string)\n",
        "print(\"After function call (string):\", my_string)\n"
      ],
      "metadata": {
        "colab": {
          "base_uri": "https://localhost:8080/"
        },
        "id": "0C0N69OzJCyK",
        "outputId": "d708236f-57b5-48d3-e1d4-06d2efb0f93c"
      },
      "execution_count": 11,
      "outputs": [
        {
          "output_type": "stream",
          "name": "stdout",
          "text": [
            "Before function call (list): [1, 2, 3]\n",
            "Inside function (list): [1, 2, 3, 4]\n",
            "After function call (list): [1, 2, 3, 4]\n",
            "Before function call (string): Hello\n",
            "Inside function (string): Hello world\n",
            "After function call (string): Hello\n"
          ]
        }
      ]
    },
    {
      "cell_type": "code",
      "source": [
        "# 8. Write a program to demonstrate the use of logical operators\n",
        "\n",
        "a = True\n",
        "b = False\n",
        "\n",
        "print(\"a and b:\", a and b)\n",
        "print(\"a or b:\", a or b)\n",
        "print(\"not a:\", not a)\n"
      ],
      "metadata": {
        "colab": {
          "base_uri": "https://localhost:8080/"
        },
        "id": "0k113NHDJLGE",
        "outputId": "18220136-d7a7-4276-988f-eb444d2cc8f3"
      },
      "execution_count": 12,
      "outputs": [
        {
          "output_type": "stream",
          "name": "stdout",
          "text": [
            "a and b: False\n",
            "a or b: True\n",
            "not a: False\n"
          ]
        }
      ]
    },
    {
      "cell_type": "code",
      "source": [
        "# 9. Write a Python program to convert user input from string to integer, float, and boolean types\n",
        "\n",
        "user_input = input(\"Enter a value: \")\n",
        "\n",
        "int_value = int(user_input)\n",
        "float_value = float(user_input)\n",
        "bool_value = bool(user_input)\n",
        "\n",
        "print(\"Integer:\", int_value)\n",
        "print(\"Float:\", float_value)\n",
        "print(\"Boolean:\", bool_value)\n"
      ],
      "metadata": {
        "colab": {
          "base_uri": "https://localhost:8080/"
        },
        "id": "9mX6aNByJkk8",
        "outputId": "be1da287-b21f-4a47-c7b7-05ecf3f4580d"
      },
      "execution_count": 18,
      "outputs": [
        {
          "output_type": "stream",
          "name": "stdout",
          "text": [
            "Enter a value: 89\n",
            "Integer: 89\n",
            "Float: 89.0\n",
            "Boolean: True\n"
          ]
        }
      ]
    },
    {
      "cell_type": "code",
      "source": [
        "# 10. Write code to demonstrate type casting with list elements\n",
        "\n",
        "my_list = [\"1\", \"2\", \"3\"]\n",
        "int_list = [int(x) for x in my_list]\n",
        "print(\"Original list:\", my_list)\n",
        "print(\"Integer list:\", int_list)\n"
      ],
      "metadata": {
        "colab": {
          "base_uri": "https://localhost:8080/"
        },
        "id": "Ew9j57DfKpPE",
        "outputId": "3a65878b-839f-407e-c536-bfeeab7b488c"
      },
      "execution_count": 19,
      "outputs": [
        {
          "output_type": "stream",
          "name": "stdout",
          "text": [
            "Original list: ['1', '2', '3']\n",
            "Integer list: [1, 2, 3]\n"
          ]
        }
      ]
    },
    {
      "cell_type": "code",
      "source": [
        "# 11. Write a program that checks if a number is positive, negative, or zero\n",
        "\n",
        "number = float(input(\"Enter a number: \"))\n",
        "\n",
        "if number > 0:\n",
        "    print(\"The number is positive.\")\n",
        "elif number < 0:\n",
        "    print(\"The number is negative.\")\n",
        "else:\n",
        "    print(\"The number is zero.\")\n"
      ],
      "metadata": {
        "colab": {
          "base_uri": "https://localhost:8080/"
        },
        "id": "Q-kPo87DLQHf",
        "outputId": "32405d44-18e0-49e6-e78f-783545dd2f01"
      },
      "execution_count": 21,
      "outputs": [
        {
          "output_type": "stream",
          "name": "stdout",
          "text": [
            "Enter a number: -445\n",
            "The number is negative.\n"
          ]
        }
      ]
    },
    {
      "cell_type": "code",
      "source": [
        "# 12. Write a for loop to print numbers from 1 to 100\n",
        "\n",
        "for i in range(1,101):\n",
        "    print(i)\n"
      ],
      "metadata": {
        "colab": {
          "base_uri": "https://localhost:8080/"
        },
        "collapsed": true,
        "id": "U7hD7EJhLklU",
        "outputId": "6519b700-c135-42ce-ea8f-5485114364ee"
      },
      "execution_count": 24,
      "outputs": [
        {
          "output_type": "stream",
          "name": "stdout",
          "text": [
            "1\n",
            "2\n",
            "3\n",
            "4\n",
            "5\n",
            "6\n",
            "7\n",
            "8\n",
            "9\n",
            "10\n",
            "11\n",
            "12\n",
            "13\n",
            "14\n",
            "15\n",
            "16\n",
            "17\n",
            "18\n",
            "19\n",
            "20\n",
            "21\n",
            "22\n",
            "23\n",
            "24\n",
            "25\n",
            "26\n",
            "27\n",
            "28\n",
            "29\n",
            "30\n",
            "31\n",
            "32\n",
            "33\n",
            "34\n",
            "35\n",
            "36\n",
            "37\n",
            "38\n",
            "39\n",
            "40\n",
            "41\n",
            "42\n",
            "43\n",
            "44\n",
            "45\n",
            "46\n",
            "47\n",
            "48\n",
            "49\n",
            "50\n",
            "51\n",
            "52\n",
            "53\n",
            "54\n",
            "55\n",
            "56\n",
            "57\n",
            "58\n",
            "59\n",
            "60\n",
            "61\n",
            "62\n",
            "63\n",
            "64\n",
            "65\n",
            "66\n",
            "67\n",
            "68\n",
            "69\n",
            "70\n",
            "71\n",
            "72\n",
            "73\n",
            "74\n",
            "75\n",
            "76\n",
            "77\n",
            "78\n",
            "79\n",
            "80\n",
            "81\n",
            "82\n",
            "83\n",
            "84\n",
            "85\n",
            "86\n",
            "87\n",
            "88\n",
            "89\n",
            "90\n",
            "91\n",
            "92\n",
            "93\n",
            "94\n",
            "95\n",
            "96\n",
            "97\n",
            "98\n",
            "99\n",
            "100\n"
          ]
        }
      ]
    },
    {
      "cell_type": "code",
      "source": [
        "# 13. Write a Python program to find the sum of all even numbers between 1 and 50\n",
        "\n",
        "# Initialize the sum\n",
        "even_sum = 0\n",
        "\n",
        "# Loop through all numbers from 1 to 500\n",
        "for num in range(1, 50):\n",
        "    if num % 2 == 0:  # Check if the number is even\n",
        "        even_sum += num\n",
        "\n",
        "# Print the sum of all even numbers\n",
        "print(\"Sum of all even numbers between 1 and 50:\", even_sum)\n"
      ],
      "metadata": {
        "colab": {
          "base_uri": "https://localhost:8080/"
        },
        "id": "BmfDdbFZL-7g",
        "outputId": "ac53be97-db0f-4556-f9f8-bf28e728f7c3"
      },
      "execution_count": 33,
      "outputs": [
        {
          "output_type": "stream",
          "name": "stdout",
          "text": [
            "Sum of all even numbers between 1 and 50: 600\n"
          ]
        }
      ]
    },
    {
      "cell_type": "code",
      "source": [
        "# 14. Write a program to reverse a string using a while loop\n",
        "\n",
        "string = input(\"Enter a string: \")\n",
        "reversed_string = \"\"\n",
        "index = len(string) - 1\n",
        "\n",
        "while index >= 0:\n",
        "    reversed_string += string[index]\n",
        "    index -= 1\n",
        "\n",
        "print(\"Reversed string:\", reversed_string)\n"
      ],
      "metadata": {
        "colab": {
          "base_uri": "https://localhost:8080/"
        },
        "id": "2bXFBLkdPk6x",
        "outputId": "be2aa469-d58f-4bf4-f1de-ad5331db3cf7"
      },
      "execution_count": 39,
      "outputs": [
        {
          "output_type": "stream",
          "name": "stdout",
          "text": [
            "Enter a string: gfrget\n",
            "Reversed string: tegrfg\n"
          ]
        }
      ]
    },
    {
      "cell_type": "code",
      "source": [
        "# 15. Write a Python program to calculate the factorial of a number provided by the user using a while loop\n",
        "\n",
        "number = int(input(\"Enter a number: \"))\n",
        "factorial = 1\n",
        "i = 1\n",
        "\n",
        "while i <= number:\n",
        "    factorial *= i\n",
        "    i += 1\n",
        "\n",
        "print(f\"The factorial of {number} is {factorial}.\")\n"
      ],
      "metadata": {
        "colab": {
          "base_uri": "https://localhost:8080/"
        },
        "id": "1fyCNcngQfwD",
        "outputId": "f048f2a7-df26-4dd3-cfb3-18ab1b405585"
      },
      "execution_count": 41,
      "outputs": [
        {
          "output_type": "stream",
          "name": "stdout",
          "text": [
            "Enter a number: 5\n",
            "The factorial of 5 is 120.\n"
          ]
        }
      ]
    }
  ]
}